{
  "cells": [
    {
      "cell_type": "code",
      "execution_count": null,
      "id": "ecfa1138",
      "metadata": {
        "id": "ecfa1138",
        "colab": {
          "base_uri": "https://localhost:8080/"
        },
        "outputId": "aa07bb00-29d5-40aa-a3e1-b7bc0d5f9b35"
      },
      "outputs": [
        {
          "output_type": "stream",
          "name": "stdout",
          "text": [
            "Enter Your Pin: \n",
            "65566\n",
            "\n",
            "            ***** Welcome To ATM Machine Simulator *****\n",
            "         \n",
            "            Options you can Exercise are:\n",
            "            1) Balance\n",
            "            2) Withdraw\n",
            "            3) Deposit\n",
            "            4) Exit\n",
            "        \n",
            "Select Your Transaction from the above options: 2\n",
            "Enter Amount: 60000\n",
            "Insufficient Balance\n",
            "\n",
            "            ***** Welcome To ATM Machine Simulator *****\n",
            "         \n",
            "            Options you can Exercise are:\n",
            "            1) Balance\n",
            "            2) Withdraw\n",
            "            3) Deposit\n",
            "            4) Exit\n",
            "        \n",
            "Select Your Transaction from the above options: 1\n",
            "Available A/C Balance Is Rs.10000\n",
            "\n",
            "            ***** Welcome To ATM Machine Simulator *****\n",
            "         \n",
            "            Options you can Exercise are:\n",
            "            1) Balance\n",
            "            2) Withdraw\n",
            "            3) Deposit\n",
            "            4) Exit\n",
            "        \n"
          ]
        }
      ],
      "source": [
        "class ATMSimulator:\n",
        "    def __init__(self):\n",
        "        self.balance = 10000\n",
        "\n",
        "    def display_options(self):\n",
        "        print('''\n",
        "            ***** Welcome To ATM Machine Simulator *****\n",
        "\n",
        "            Options you can Exercise are:\n",
        "            1) Balance\n",
        "            2) Withdraw\n",
        "            3) Deposit\n",
        "            4) Exit\n",
        "        ''')\n",
        "\n",
        "    def check_balance(self):\n",
        "        print(f'Available A/C Balance Is Rs.{self.balance}')\n",
        "\n",
        "    def withdraw_amount(self):\n",
        "        withdraw_amount = int(input('Enter Amount: '))\n",
        "        if withdraw_amount <= self.balance:\n",
        "            self.balance -= withdraw_amount\n",
        "            print(f'Your available balance is Rs.{self.balance}')\n",
        "        else:\n",
        "            print('Insufficient Balance')\n",
        "\n",
        "    def deposit_amount(self):\n",
        "        deposit_amount = int(input('Enter Amount: '))\n",
        "        self.balance += deposit_amount\n",
        "        print(f'New Balance is Rs.{self.balance}')\n",
        "\n",
        "    def run_atm(self):\n",
        "        print(\"Enter Your Pin: \")\n",
        "        pin = input()  # You can add pin verification logic here\n",
        "\n",
        "        while True:\n",
        "            self.display_options()\n",
        "            choice = int(input('Select Your Transaction from the above options: '))\n",
        "\n",
        "            if choice == 1:\n",
        "                self.check_balance()\n",
        "            elif choice == 2:\n",
        "                self.withdraw_amount()\n",
        "            elif choice == 3:\n",
        "                self.deposit_amount()\n",
        "            elif choice == 4:\n",
        "                print(\"Exiting ATM. Thank you!\")\n",
        "                break\n",
        "            else:\n",
        "                print('Invalid Option. Please choose a valid option.')\n",
        "\n",
        "if __name__ == \"__main__\":\n",
        "    atm = ATMSimulator()\n",
        "    atm.run_atm()\n"
      ]
    }
  ],
  "metadata": {
    "kernelspec": {
      "display_name": "Python 3 (ipykernel)",
      "language": "python",
      "name": "python3"
    },
    "language_info": {
      "codemirror_mode": {
        "name": "ipython",
        "version": 3
      },
      "file_extension": ".py",
      "mimetype": "text/x-python",
      "name": "python",
      "nbconvert_exporter": "python",
      "pygments_lexer": "ipython3",
      "version": "3.8.8"
    },
    "colab": {
      "provenance": []
    }
  },
  "nbformat": 4,
  "nbformat_minor": 5
}